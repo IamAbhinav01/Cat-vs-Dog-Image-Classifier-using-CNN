{
 "cells": [
  {
   "cell_type": "code",
   "execution_count": 1,
   "id": "498c8ab5",
   "metadata": {},
   "outputs": [],
   "source": [
    "import tensorflow as tf"
   ]
  },
  {
   "cell_type": "code",
   "execution_count": 2,
   "id": "00f83998",
   "metadata": {},
   "outputs": [],
   "source": [
    "from keras.preprocessing.image import ImageDataGenerator"
   ]
  },
  {
   "cell_type": "code",
   "execution_count": 3,
   "id": "83efe0b6",
   "metadata": {},
   "outputs": [],
   "source": [
    "train_datagen = ImageDataGenerator(\n",
    "        rescale = 1./255,\n",
    "        shear_range = 0.2,\n",
    "        zoom_range = 0.2,\n",
    "        horizontal_flip = True)"
   ]
  },
  {
   "cell_type": "code",
   "execution_count": 4,
   "id": "1903a9a0",
   "metadata": {},
   "outputs": [
    {
     "name": "stdout",
     "output_type": "stream",
     "text": [
      "Found 8000 images belonging to 2 classes.\n"
     ]
    }
   ],
   "source": [
    "training_set = train_datagen.flow_from_directory(\n",
    "        r'dataset\\training_set', \n",
    "        target_size=(64, 64),  \n",
    "        batch_size=32,\n",
    "        class_mode='binary')"
   ]
  },
  {
   "cell_type": "code",
   "execution_count": 5,
   "id": "8fa8b9c5",
   "metadata": {},
   "outputs": [],
   "source": [
    "test_datagen = ImageDataGenerator(rescale=1./255)"
   ]
  },
  {
   "cell_type": "code",
   "execution_count": 6,
   "id": "3a9d509e",
   "metadata": {},
   "outputs": [
    {
     "name": "stdout",
     "output_type": "stream",
     "text": [
      "Found 2000 images belonging to 2 classes.\n"
     ]
    }
   ],
   "source": [
    "validation_generator = test_datagen.flow_from_directory(\n",
    "        r'dataset\\test_set',\n",
    "        target_size=(64, 64),\n",
    "        batch_size=32,\n",
    "        class_mode='binary')"
   ]
  },
  {
   "cell_type": "code",
   "execution_count": 7,
   "id": "9290e6dd",
   "metadata": {},
   "outputs": [],
   "source": [
    "from tensorflow.keras.models import Sequential\n",
    "from tensorflow.keras.layers import Conv2D,MaxPool2D,Dense,Flatten"
   ]
  },
  {
   "cell_type": "code",
   "execution_count": 8,
   "id": "e0b148f1",
   "metadata": {},
   "outputs": [],
   "source": [
    "model = Sequential()"
   ]
  },
  {
   "cell_type": "code",
   "execution_count": 9,
   "id": "4f0694d9",
   "metadata": {},
   "outputs": [],
   "source": [
    "model.add(Conv2D(filters=32,kernel_size = 3,activation='relu',input_shape=[64,64,3]))"
   ]
  },
  {
   "cell_type": "code",
   "execution_count": 10,
   "id": "c327add0",
   "metadata": {},
   "outputs": [],
   "source": [
    "model.add(MaxPool2D(pool_size=2,strides=2))"
   ]
  },
  {
   "cell_type": "code",
   "execution_count": 11,
   "id": "1c044cbf",
   "metadata": {},
   "outputs": [],
   "source": [
    "model.add(Conv2D(filters=32,kernel_size = 3,activation='relu'))\n",
    "model.add(MaxPool2D(pool_size=2,strides=2))"
   ]
  },
  {
   "cell_type": "code",
   "execution_count": 12,
   "id": "8efd8538",
   "metadata": {},
   "outputs": [],
   "source": [
    "model.add(Flatten())"
   ]
  },
  {
   "cell_type": "code",
   "execution_count": 13,
   "id": "c4baf07b",
   "metadata": {},
   "outputs": [],
   "source": [
    "model.add(Dense(units=128,activation='relu'))\n"
   ]
  },
  {
   "cell_type": "code",
   "execution_count": 14,
   "id": "d0f5c4e3",
   "metadata": {},
   "outputs": [],
   "source": [
    "model.add(Dense(units=1,activation='sigmoid'))"
   ]
  },
  {
   "cell_type": "code",
   "execution_count": 15,
   "id": "ae4d37d6",
   "metadata": {},
   "outputs": [],
   "source": [
    "model.compile(\"adam\",loss='binary_crossentropy',metrics=['accuracy'])"
   ]
  },
  {
   "cell_type": "code",
   "execution_count": 16,
   "id": "124bb087",
   "metadata": {},
   "outputs": [
    {
     "name": "stdout",
     "output_type": "stream",
     "text": [
      "Model: \"sequential\"\n",
      "_________________________________________________________________\n",
      " Layer (type)                Output Shape              Param #   \n",
      "=================================================================\n",
      " conv2d (Conv2D)             (None, 62, 62, 32)        896       \n",
      "                                                                 \n",
      " max_pooling2d (MaxPooling2D  (None, 31, 31, 32)       0         \n",
      " )                                                               \n",
      "                                                                 \n",
      " conv2d_1 (Conv2D)           (None, 29, 29, 32)        9248      \n",
      "                                                                 \n",
      " max_pooling2d_1 (MaxPooling  (None, 14, 14, 32)       0         \n",
      " 2D)                                                             \n",
      "                                                                 \n",
      " flatten (Flatten)           (None, 6272)              0         \n",
      "                                                                 \n",
      " dense (Dense)               (None, 128)               802944    \n",
      "                                                                 \n",
      " dense_1 (Dense)             (None, 1)                 129       \n",
      "                                                                 \n",
      "=================================================================\n",
      "Total params: 813,217\n",
      "Trainable params: 813,217\n",
      "Non-trainable params: 0\n",
      "_________________________________________________________________\n"
     ]
    }
   ],
   "source": [
    "model.summary()"
   ]
  },
  {
   "cell_type": "code",
   "execution_count": 17,
   "id": "6500c338",
   "metadata": {},
   "outputs": [
    {
     "name": "stdout",
     "output_type": "stream",
     "text": [
      "Epoch 1/25\n",
      "250/250 [==============================] - 16s 58ms/step - loss: 0.6784 - accuracy: 0.5699 - val_loss: 0.6498 - val_accuracy: 0.6155\n",
      "Epoch 2/25\n",
      "250/250 [==============================] - 13s 52ms/step - loss: 0.6128 - accuracy: 0.6640 - val_loss: 0.5822 - val_accuracy: 0.7085\n",
      "Epoch 3/25\n",
      "250/250 [==============================] - 13s 53ms/step - loss: 0.5749 - accuracy: 0.7001 - val_loss: 0.6244 - val_accuracy: 0.6735\n",
      "Epoch 4/25\n",
      "250/250 [==============================] - 13s 53ms/step - loss: 0.5388 - accuracy: 0.7280 - val_loss: 0.5281 - val_accuracy: 0.7345\n",
      "Epoch 5/25\n",
      "250/250 [==============================] - 13s 53ms/step - loss: 0.5114 - accuracy: 0.7479 - val_loss: 0.5408 - val_accuracy: 0.7440\n",
      "Epoch 6/25\n",
      "250/250 [==============================] - 13s 53ms/step - loss: 0.4940 - accuracy: 0.7577 - val_loss: 0.5225 - val_accuracy: 0.7535\n",
      "Epoch 7/25\n",
      "250/250 [==============================] - 13s 52ms/step - loss: 0.4752 - accuracy: 0.7716 - val_loss: 0.4932 - val_accuracy: 0.7715\n",
      "Epoch 8/25\n",
      "250/250 [==============================] - 13s 53ms/step - loss: 0.4633 - accuracy: 0.7785 - val_loss: 0.5633 - val_accuracy: 0.7390\n",
      "Epoch 9/25\n",
      "250/250 [==============================] - 13s 53ms/step - loss: 0.4509 - accuracy: 0.7853 - val_loss: 0.4773 - val_accuracy: 0.7680\n",
      "Epoch 10/25\n",
      "250/250 [==============================] - 13s 53ms/step - loss: 0.4363 - accuracy: 0.7964 - val_loss: 0.4729 - val_accuracy: 0.7840\n",
      "Epoch 11/25\n",
      "250/250 [==============================] - 13s 53ms/step - loss: 0.4292 - accuracy: 0.8000 - val_loss: 0.5045 - val_accuracy: 0.7675\n",
      "Epoch 12/25\n",
      "250/250 [==============================] - 13s 53ms/step - loss: 0.4132 - accuracy: 0.8095 - val_loss: 0.4772 - val_accuracy: 0.8025\n",
      "Epoch 13/25\n",
      "250/250 [==============================] - 13s 53ms/step - loss: 0.4094 - accuracy: 0.8156 - val_loss: 0.4685 - val_accuracy: 0.7790\n",
      "Epoch 14/25\n",
      "250/250 [==============================] - 13s 53ms/step - loss: 0.3918 - accuracy: 0.8176 - val_loss: 0.4816 - val_accuracy: 0.7825\n",
      "Epoch 15/25\n",
      "250/250 [==============================] - 13s 52ms/step - loss: 0.3786 - accuracy: 0.8264 - val_loss: 0.5121 - val_accuracy: 0.7735\n",
      "Epoch 16/25\n",
      "250/250 [==============================] - 13s 53ms/step - loss: 0.3657 - accuracy: 0.8401 - val_loss: 0.4498 - val_accuracy: 0.8060\n",
      "Epoch 17/25\n",
      "250/250 [==============================] - 13s 53ms/step - loss: 0.3595 - accuracy: 0.8403 - val_loss: 0.4696 - val_accuracy: 0.8015\n",
      "Epoch 18/25\n",
      "250/250 [==============================] - 14s 56ms/step - loss: 0.3480 - accuracy: 0.8449 - val_loss: 0.4619 - val_accuracy: 0.8035\n",
      "Epoch 19/25\n",
      "250/250 [==============================] - 13s 53ms/step - loss: 0.3354 - accuracy: 0.8490 - val_loss: 0.4959 - val_accuracy: 0.8020\n",
      "Epoch 20/25\n",
      "250/250 [==============================] - 14s 55ms/step - loss: 0.3268 - accuracy: 0.8544 - val_loss: 0.4506 - val_accuracy: 0.8100\n",
      "Epoch 21/25\n",
      "250/250 [==============================] - 14s 56ms/step - loss: 0.3236 - accuracy: 0.8611 - val_loss: 0.4689 - val_accuracy: 0.8135\n",
      "Epoch 22/25\n",
      "250/250 [==============================] - 14s 54ms/step - loss: 0.3180 - accuracy: 0.8611 - val_loss: 0.4504 - val_accuracy: 0.8095\n",
      "Epoch 23/25\n",
      "250/250 [==============================] - 14s 56ms/step - loss: 0.2956 - accuracy: 0.8708 - val_loss: 0.4852 - val_accuracy: 0.8015\n",
      "Epoch 24/25\n",
      "250/250 [==============================] - 14s 56ms/step - loss: 0.2921 - accuracy: 0.8739 - val_loss: 0.4991 - val_accuracy: 0.8050\n",
      "Epoch 25/25\n",
      "250/250 [==============================] - 17s 68ms/step - loss: 0.2857 - accuracy: 0.8805 - val_loss: 0.4979 - val_accuracy: 0.8075\n"
     ]
    },
    {
     "data": {
      "text/plain": [
       "<keras.callbacks.History at 0x1e0939282e0>"
      ]
     },
     "execution_count": 17,
     "metadata": {},
     "output_type": "execute_result"
    }
   ],
   "source": [
    "model.fit(x=training_set,validation_data=validation_generator,epochs=25)"
   ]
  },
  {
   "cell_type": "code",
   "execution_count": 18,
   "id": "78b4d4e4",
   "metadata": {},
   "outputs": [],
   "source": [
    "model.save(\"cnn_model.h5\")"
   ]
  },
  {
   "cell_type": "code",
   "execution_count": 26,
   "id": "1d4ea7bc",
   "metadata": {},
   "outputs": [
    {
     "name": "stdout",
     "output_type": "stream",
     "text": [
      "1/1 [==============================] - 0s 22ms/step\n",
      "The predicted class is: dog\n"
     ]
    }
   ],
   "source": [
    "import numpy as np\n",
    "from tensorflow.keras.preprocessing import image\n",
    "test_image = image.load_img(r'dataset\\single_prediction\\a2c04e14eb463e9680da252abc56e31a.jpg',target_size=(64,64))\n",
    "test_image = image.img_to_array(test_image)\n",
    "test_image = np.expand_dims(test_image,axis=0)\n",
    "result = model.predict(test_image)\n",
    "training_set.class_indices\n",
    "\n",
    "if result[0][0] == 1:\n",
    "    prediction = 'dog'\n",
    "else:\n",
    "    prediction = 'cat'\n",
    "print(f'The predicted class is: {prediction}')"
   ]
  },
  {
   "cell_type": "code",
   "execution_count": null,
   "id": "a2f57816",
   "metadata": {},
   "outputs": [],
   "source": []
  }
 ],
 "metadata": {
  "kernelspec": {
   "display_name": "tensorflow2.10.0",
   "language": "python",
   "name": "python3"
  },
  "language_info": {
   "codemirror_mode": {
    "name": "ipython",
    "version": 3
   },
   "file_extension": ".py",
   "mimetype": "text/x-python",
   "name": "python",
   "nbconvert_exporter": "python",
   "pygments_lexer": "ipython3",
   "version": "3.10.9"
  }
 },
 "nbformat": 4,
 "nbformat_minor": 5
}
